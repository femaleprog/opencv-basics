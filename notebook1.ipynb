{
 "cells": [
  {
   "cell_type": "markdown",
   "metadata": {},
   "source": [
    "### 1. Installing OpenCV"
   ]
  },
  {
   "cell_type": "code",
   "execution_count": null,
   "metadata": {},
   "outputs": [
    {
     "name": "stdout",
     "output_type": "stream",
     "text": [
      "Requirement already satisfied: opencv-python in c:\\users\\tichi\\appdata\\local\\programs\\python\\python312\\lib\\site-packages (4.9.0.80)\n",
      "Requirement already satisfied: numpy>=1.21.2 in c:\\users\\tichi\\appdata\\local\\programs\\python\\python312\\lib\\site-packages (from opencv-python) (1.26.4)\n"
     ]
    }
   ],
   "source": [
    "!pip install opencv-python"
   ]
  },
  {
   "cell_type": "code",
   "execution_count": 2,
   "metadata": {},
   "outputs": [],
   "source": [
    "import cv2"
   ]
  },
  {
   "cell_type": "markdown",
   "metadata": {},
   "source": [
    "### 2. Playing with some python samples"
   ]
  },
  {
   "cell_type": "code",
   "execution_count": 3,
   "metadata": {},
   "outputs": [
    {
     "name": "stdout",
     "output_type": "stream",
     "text": [
      " This is a sample for histogram plotting for RGB images and grayscale images for better understanding of colour distribution\n",
      "\n",
      "Benefit : Learn how to draw histogram of images\n",
      "          Get familier with cv.calcHist, cv.equalizeHist,cv.normalize and some drawing functions\n",
      "\n",
      "Level : Beginner or Intermediate\n",
      "\n",
      "Functions : 1) hist_curve : returns histogram of an image drawn as curves\n",
      "            2) hist_lines : return histogram of an image drawn as bins ( only for grayscale images )\n",
      "\n",
      "Usage : python hist.py <image_file>\n",
      "\n",
      "Abid Rahman 3/14/12 debug Gary Bradski\n",
      "\n",
      "usage : python hist.py <image_file>\n",
      " Histogram plotting \n",
      "\n",
      "    Keymap :\n",
      "\n",
      "    a - show histogram for color image in curve mode \n",
      "\n",
      "    b - show histogram in bin mode \n",
      "\n",
      "    c - show equalized histogram (always in bin mode) \n",
      "\n",
      "    d - show histogram for gray image in curve mode \n",
      "\n",
      "    e - show histogram for a normalized image in curve mode \n",
      "\n",
      "    Esc - exit \n",
      "\n",
      "    \n",
      "a\n",
      "a\n",
      "b\n",
      "hist_lines applicable only for grayscale images\n",
      "b\n",
      "hist_lines applicable only for grayscale images\n",
      "a\n",
      "b\n",
      "hist_lines applicable only for grayscale images\n",
      "c\n",
      "c\n",
      "d\n",
      "e\n",
      "a\n",
      "b\n",
      "hist_lines applicable only for grayscale images\n",
      "c\n",
      "d\n",
      "e\n",
      "e\n",
      "ESC\n",
      "Done\n"
     ]
    },
    {
     "name": "stderr",
     "output_type": "stream",
     "text": [
      "[ WARN:0@0.031] global samples.cpp:61 cv::samples::findFile cv::samples::findFile('lena.jpg') => 'c:\\opencv\\opencv-4.9.0\\opencv-4.9.0\\samples\\python/../..\\samples/data\\lena.jpg'\n"
     ]
    }
   ],
   "source": [
    "# Histpgram simple\n",
    "! cd opencv-4.9.0/opencv-4.9.0/samples/python & python hist.py"
   ]
  },
  {
   "cell_type": "code",
   "execution_count": 5,
   "metadata": {},
   "outputs": [
    {
     "name": "stdout",
     "output_type": "stream",
     "text": [
      "\n",
      "example to show optical flow\n",
      "\n",
      "USAGE: opt_flow.py [<video_source>]\n",
      "\n",
      "Keys:\n",
      " 1 - toggle HSV flow visualization\n",
      " 2 - toggle glitch\n",
      "\n",
      "Keys:\n",
      "    ESC    - exit\n",
      "\n",
      "Done\n"
     ]
    }
   ],
   "source": [
    "# Optical flow simple\n",
    "! cd opencv-4.9.0/opencv-4.9.0/samples/python & python opt_flow.py"
   ]
  },
  {
   "cell_type": "code",
   "execution_count": 6,
   "metadata": {},
   "outputs": [
    {
     "name": "stdout",
     "output_type": "stream",
     "text": [
      "\n",
      "example to detect upright people in images using HOG features\n",
      "\n",
      "Usage:\n",
      "    peopledetect.py <image_names>\n",
      "\n",
      "Press any key to continue, ESC to stop.\n",
      "\n",
      "c:\\opencv\\opencv-4.9.0\\opencv-4.9.0\\samples\\python/../..\\samples/data\\basketball2.png  - \n",
      "2 (2) found\n",
      "Done\n"
     ]
    },
    {
     "name": "stderr",
     "output_type": "stream",
     "text": [
      "[ WARN:0@1.698] global samples.cpp:61 cv::samples::findFile cv::samples::findFile('basketball2.png') => 'c:\\opencv\\opencv-4.9.0\\opencv-4.9.0\\samples\\python/../..\\samples/data\\basketball2.png'\n"
     ]
    }
   ],
   "source": [
    "# People detector \n",
    "! cd opencv-4.9.0/opencv-4.9.0/samples/python & python peopledetect.py"
   ]
  },
  {
   "cell_type": "code",
   "execution_count": 7,
   "metadata": {},
   "outputs": [
    {
     "name": "stdout",
     "output_type": "stream",
     "text": [
      "\n",
      "face detection using haar cascades\n",
      "\n",
      "USAGE:\n",
      "    facedetect.py [--cascade <cascade_fn>] [--nested-cascade <cascade_fn>] [<video_source>]\n",
      "\n",
      "Done\n"
     ]
    },
    {
     "name": "stderr",
     "output_type": "stream",
     "text": [
      "[ WARN:0@0.044] global samples.cpp:61 cv::samples::findFile cv::samples::findFile('haarcascades/haarcascade_frontalface_alt.xml') => 'c:\\opencv\\opencv-4.9.0\\opencv-4.9.0\\samples\\python/../..\\data\\haarcascades/haarcascade_frontalface_alt.xml'\n",
      "[ WARN:0@0.073] global samples.cpp:61 cv::samples::findFile cv::samples::findFile('haarcascades/haarcascade_eye.xml') => 'c:\\opencv\\opencv-4.9.0\\opencv-4.9.0\\samples\\python/../..\\data\\haarcascades/haarcascade_eye.xml'\n",
      "[ WARN:0@0.079] global samples.cpp:61 cv::samples::findFile cv::samples::findFile('lena.jpg') => 'c:\\opencv\\opencv-4.9.0\\opencv-4.9.0\\samples\\python/../..\\samples/data\\lena.jpg'\n"
     ]
    }
   ],
   "source": [
    "# Face detection\n",
    "! cd opencv-4.9.0/opencv-4.9.0/samples/python & python facedetect.py"
   ]
  },
  {
   "cell_type": "code",
   "execution_count": null,
   "metadata": {},
   "outputs": [],
   "source": []
  },
  {
   "cell_type": "code",
   "execution_count": null,
   "metadata": {},
   "outputs": [],
   "source": []
  }
 ],
 "metadata": {
  "kernelspec": {
   "display_name": "Python 3",
   "language": "python",
   "name": "python3"
  },
  "language_info": {
   "codemirror_mode": {
    "name": "ipython",
    "version": 3
   },
   "file_extension": ".py",
   "mimetype": "text/x-python",
   "name": "python",
   "nbconvert_exporter": "python",
   "pygments_lexer": "ipython3",
   "version": "3.12.0"
  }
 },
 "nbformat": 4,
 "nbformat_minor": 2
}
